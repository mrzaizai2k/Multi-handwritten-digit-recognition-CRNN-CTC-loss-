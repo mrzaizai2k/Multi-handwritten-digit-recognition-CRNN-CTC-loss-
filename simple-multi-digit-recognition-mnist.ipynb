{
 "cells": [
  {
   "cell_type": "code",
   "execution_count": 1,
   "id": "aec48cbe",
   "metadata": {
    "_cell_guid": "b1076dfc-b9ad-4769-8c92-a6c4dae69d19",
    "_uuid": "8f2839f25d086af736a60e9eeb907d3b93b6e0e5",
    "execution": {
     "iopub.execute_input": "2021-07-25T10:32:55.997040Z",
     "iopub.status.busy": "2021-07-25T10:32:55.996368Z",
     "iopub.status.idle": "2021-07-25T10:32:59.963347Z",
     "shell.execute_reply": "2021-07-25T10:32:59.962323Z",
     "shell.execute_reply.started": "2021-07-25T09:57:37.739334Z"
    },
    "papermill": {
     "duration": 3.993902,
     "end_time": "2021-07-25T10:32:59.963548",
     "exception": false,
     "start_time": "2021-07-25T10:32:55.969646",
     "status": "completed"
    },
    "tags": []
   },
   "outputs": [],
   "source": [
    "\n",
    "import numpy as np # linear algebra\n",
    "import pandas as pd # data processing, CSV file I/O (e.g. pd.read_csv)\n",
    "\n",
    "# Input data files are available in the read-only \"../input/\" directory\n",
    "# For example, running this (by clicking run or pressing Shift+Enter) will list all files under the input directory\n",
    "import cv2\n",
    "import os\n",
    "import subprocess\n",
    "import matplotlib.pyplot as plt\n",
    "\n",
    "import tensorflow as tf\n",
    "from tensorflow import keras\n",
    "from tensorflow.keras import layers\n",
    "\n",
    "from pathlib import Path\n",
    "from collections import Counter\n",
    "\n",
    "\n",
    "#import zipfile\n",
    "#with zipfile.ZipFile('..input/data/dataset/multi_digit_images_10k.zip') 'r') as zip_ref:\n",
    "#zip_ref.extractall('../input/data/dataset/multi_digit_images_10k/')\n",
    "#I just want to use the 10k data for my project\n"
   ]
  },
  {
   "cell_type": "markdown",
   "id": "a21ad599",
   "metadata": {
    "papermill": {
     "duration": 0.01327,
     "end_time": "2021-07-25T10:32:59.990804",
     "exception": false,
     "start_time": "2021-07-25T10:32:59.977534",
     "status": "completed"
    },
    "tags": []
   },
   "source": [
    "I am not really good at English so....\n",
    "Sr for not having time to shorten the code, you may find some silly things in this code.\n",
    "\n",
    "You can find the code i use to generate picture of multi digit from MNSI dataset here:\n",
    "https://www.kaggle.com/bomaich/multi-digit-images-generate-mnist\n",
    "The following is the amount of pictures and some variables needed for the code to run (some are not needed :)) )"
   ]
  },
  {
   "cell_type": "code",
   "execution_count": 2,
   "id": "30ebf26c",
   "metadata": {
    "execution": {
     "iopub.execute_input": "2021-07-25T10:33:00.024888Z",
     "iopub.status.busy": "2021-07-25T10:33:00.024290Z",
     "iopub.status.idle": "2021-07-25T10:33:02.147837Z",
     "shell.execute_reply": "2021-07-25T10:33:02.148441Z",
     "shell.execute_reply.started": "2021-07-25T09:57:41.980773Z"
    },
    "papermill": {
     "duration": 2.14441,
     "end_time": "2021-07-25T10:33:02.148631",
     "exception": false,
     "start_time": "2021-07-25T10:33:00.004221",
     "status": "completed"
    },
    "tags": []
   },
   "outputs": [
    {
     "name": "stdout",
     "output_type": "stream",
     "text": [
      "Number of images found:  40000\n",
      "Number of labels found:  40000\n",
      "Number of unique characters:  10\n",
      "Characters present:  {'9', '6', '4', '7', '1', '8', '2', '0', '3', '5'}\n"
     ]
    }
   ],
   "source": [
    "##############Preprocessing and preparing the images for training\n",
    "# Path to the data directory\n",
    "data_dir = Path(\"../input/dataset/multi_digit_images_40k/\")\n",
    "\n",
    "# Get list of all the images\n",
    "images = sorted(list(map(str, list(data_dir.glob(\"*.png\")))))\n",
    "# image chứa đường dẫn của image\n",
    "labels = [img.split(os.path.sep)[-1].split(\".png\")[0] for img in images]\n",
    "characters = set(char for label in labels for char in label)\n",
    "\n",
    "print(\"Number of images found: \", len(images))\n",
    "print(\"Number of labels found: \", len(labels))\n",
    "print(\"Number of unique characters: \", len(characters))\n",
    "print(\"Characters present: \", characters)\n",
    "\n",
    "# Batch size for training and validation\n",
    "batch_size = 16\n",
    "\n",
    "# Desired image dimensions\n",
    "img_width = 128\n",
    "img_height = 32\n",
    "\n",
    "# Factor by which the image is going to be downsampled\n",
    "# by the convolutional blocks. We will be using two\n",
    "# convolution blocks and each block will have\n",
    "# a pooling layer which downsample the features by a factor of 2.\n",
    "# Hence total downsampling factor would be 4.\n",
    "downsample_factor = 4\n",
    "\n",
    "# Maximum length of any captcha in the dataset\n",
    "max_length = max([len(label) for label in labels])"
   ]
  },
  {
   "cell_type": "markdown",
   "id": "f80b0126",
   "metadata": {
    "papermill": {
     "duration": 0.013861,
     "end_time": "2021-07-25T10:33:02.178661",
     "exception": false,
     "start_time": "2021-07-25T10:33:02.164800",
     "status": "completed"
    },
    "tags": []
   },
   "source": [
    "#  Preprocessing and preparing the images for training\n",
    "The images are loaded as grayscale and resized to width 128 and height 32. (orginal shape is 196x28)\n",
    "Transpose the image and standardization\n",
    "The image is then normalized to range [0, 1]\n",
    "Reference: https://www.kaggle.com/samfc10/handwriting-recognition-using-crnn-in-keras"
   ]
  },
  {
   "cell_type": "code",
   "execution_count": 3,
   "id": "d0022190",
   "metadata": {
    "execution": {
     "iopub.execute_input": "2021-07-25T10:33:02.218271Z",
     "iopub.status.busy": "2021-07-25T10:33:02.217384Z",
     "iopub.status.idle": "2021-07-25T10:33:02.220533Z",
     "shell.execute_reply": "2021-07-25T10:33:02.220044Z",
     "shell.execute_reply.started": "2021-07-25T09:57:43.411542Z"
    },
    "papermill": {
     "duration": 0.027667,
     "end_time": "2021-07-25T10:33:02.220663",
     "exception": false,
     "start_time": "2021-07-25T10:33:02.192996",
     "status": "completed"
    },
    "tags": []
   },
   "outputs": [],
   "source": [
    "def preprocess(img, imgSize ):\n",
    "    ''' resize, transpose and standardization grayscale images '''\n",
    "    # create target image and copy sample image into it\n",
    "    widthTarget, heightTarget = imgSize \n",
    "    height, width = img.shape \n",
    "    factor_x = width / widthTarget\n",
    "    factor_y = height / heightTarget\n",
    "\n",
    "    factor = max(factor_x, factor_y)\n",
    "    # scale according to factor\n",
    "    newSize = (min(widthTarget, int(width / factor)), min(heightTarget, int(height / factor)))\n",
    "\n",
    "    img = cv2.resize(img, newSize)\n",
    "    target = np.ones(shape=(heightTarget, widthTarget), dtype='uint8') * 255\n",
    "    target[0:newSize[1], 0:newSize[0]] = img\n",
    "    # transpose\n",
    "    img = cv2.transpose(target)\n",
    "    # standardization\n",
    "    mean, stddev = cv2.meanStdDev(img)\n",
    "    mean = mean[0][0]\n",
    "    stddev = stddev[0][0]\n",
    "    img = img - mean\n",
    "    img = img // stddev if stddev > 0 else img\n",
    "    return img"
   ]
  },
  {
   "cell_type": "code",
   "execution_count": 4,
   "id": "bbc72674",
   "metadata": {
    "execution": {
     "iopub.execute_input": "2021-07-25T10:33:02.256855Z",
     "iopub.status.busy": "2021-07-25T10:33:02.256178Z",
     "iopub.status.idle": "2021-07-25T10:33:02.259069Z",
     "shell.execute_reply": "2021-07-25T10:33:02.259526Z",
     "shell.execute_reply.started": "2021-07-25T09:57:43.421929Z"
    },
    "papermill": {
     "duration": 0.022741,
     "end_time": "2021-07-25T10:33:02.259659",
     "exception": false,
     "start_time": "2021-07-25T10:33:02.236918",
     "status": "completed"
    },
    "tags": []
   },
   "outputs": [
    {
     "name": "stdout",
     "output_type": "stream",
     "text": [
      "\n",
      "train_size 32000   valid_size 8000\n"
     ]
    }
   ],
   "source": [
    "train_size = int(0.8 * len(labels))\n",
    "valid_size= int(len(labels) - train_size)\n",
    "# 80% data is for training. The rest of them is for validation\n",
    "\n",
    "print ('\\ntrain_size',train_size,'  valid_size',valid_size)"
   ]
  },
  {
   "cell_type": "code",
   "execution_count": 5,
   "id": "9007a207",
   "metadata": {
    "execution": {
     "iopub.execute_input": "2021-07-25T10:33:02.300163Z",
     "iopub.status.busy": "2021-07-25T10:33:02.299505Z",
     "iopub.status.idle": "2021-07-25T10:38:06.305494Z",
     "shell.execute_reply": "2021-07-25T10:38:06.304982Z",
     "shell.execute_reply.started": "2021-07-25T09:57:43.437926Z"
    },
    "papermill": {
     "duration": 304.030527,
     "end_time": "2021-07-25T10:38:06.305638",
     "exception": false,
     "start_time": "2021-07-25T10:33:02.275111",
     "status": "completed"
    },
    "tags": []
   },
   "outputs": [
    {
     "name": "stdout",
     "output_type": "stream",
     "text": [
      "\n",
      " train_x.shape (32000, 128, 32, 1)\n",
      "\n",
      " valid_x.shape (8000, 128, 32, 1)\n",
      "\n",
      " Example of label_valid 7931983\n"
     ]
    },
    {
     "data": {
      "image/png": "[encoded data removed]",
      "text/plain": [
       "<Figure size 648x1296 with 3 Axes>"
      ]
     },
     "metadata": {
      "needs_background": "light"
     },
     "output_type": "display_data"
    }
   ],
   "source": [
    "train_x = []\n",
    "valid_x = []\n",
    "i=0\n",
    "for image in images:\n",
    "    image = cv2.imread(image, cv2.IMREAD_GRAYSCALE)\n",
    "    image = preprocess(image, (128,32)) \n",
    "    image = image/255.\n",
    "    if i < train_size:\n",
    "        train_x.append(image)\n",
    "    else:\n",
    "        valid_x.append(image)\n",
    "    i = i+1\n",
    "\n",
    "train_x = np.array(train_x).reshape(-1, 128, 32, 1)\n",
    "valid_x = np.array(valid_x).reshape(-1, 128, 32, 1)\n",
    "\n",
    "print ('\\n train_x.shape',train_x.shape)\n",
    "print ('\\n valid_x.shape',valid_x.shape)\n",
    "\n",
    "label_train = labels[0:train_size]\n",
    "label_valid = labels[train_size:len(labels)]\n",
    "# They usually slit images into 2 folders, but I just have 1 so I have to label it again.\n",
    "\n",
    "#print ('\\n label_train',label_train)\n",
    "print('\\n Example of label_valid',label_valid[3])\n",
    "\n",
    "plt.figure(num='multi digit',figsize=(9,18))\n",
    "for i in range(3):\n",
    "    plt.subplot(3,3,i+1) \n",
    "    plt.title(label_valid[i])\n",
    "    plt.imshow(np.squeeze(valid_x[i,:,:,]))\n",
    "plt.show()\n"
   ]
  },
  {
   "cell_type": "markdown",
   "id": "369b2af5",
   "metadata": {
    "papermill": {
     "duration": 0.017275,
     "end_time": "2021-07-25T10:38:06.339197",
     "exception": false,
     "start_time": "2021-07-25T10:38:06.321922",
     "status": "completed"
    },
    "tags": []
   },
   "source": [
    "# Preparing the labels for CTC Loss\n",
    "Learn more about CTC loss and why its amazing for text recognition from here.\n",
    "\n",
    "The labels have to be converted to numbers which represent each character in the training set. The 'alphabets' consist of A-Z and three special characters (- ' and space)."
   ]
  },
  {
   "cell_type": "code",
   "execution_count": 6,
   "id": "8916f611",
   "metadata": {
    "execution": {
     "iopub.execute_input": "2021-07-25T10:38:06.382764Z",
     "iopub.status.busy": "2021-07-25T10:38:06.381903Z",
     "iopub.status.idle": "2021-07-25T10:38:06.386318Z",
     "shell.execute_reply": "2021-07-25T10:38:06.386705Z",
     "shell.execute_reply.started": "2021-07-25T10:01:37.309853Z"
    },
    "papermill": {
     "duration": 0.029194,
     "end_time": "2021-07-25T10:38:06.386835",
     "exception": false,
     "start_time": "2021-07-25T10:38:06.357641",
     "status": "completed"
    },
    "tags": []
   },
   "outputs": [
    {
     "name": "stdout",
     "output_type": "stream",
     "text": [
      "39816931 \n",
      " [3 9 8 1 6 9 3 1]\n"
     ]
    }
   ],
   "source": [
    "alphabets = u\"0123456789' \"\n",
    "max_str_len = 10 # max length of input labels\n",
    "# My project have 7 digits per image, but as long as the max_str_len > the number of digit per image, \n",
    "#it's just fine\n",
    "num_of_characters = len(alphabets) + 1 # +1 for ctc pseudo blank\n",
    "num_of_timestamps = 32 # max length of predicted labels\n",
    "# I find out that if the num_of_timestamps ... I forgot it... \n",
    "\n",
    "def label_to_num(label):\n",
    "    label_num = []\n",
    "    for ch in label:\n",
    "        label_num.append(alphabets.find(ch))\n",
    "        \n",
    "    return np.array(label_num)\n",
    "\n",
    "def num_to_label(num):\n",
    "    ret = \"\"\n",
    "    for ch in num:\n",
    "        if ch == -1:  # CTC Blank\n",
    "            break\n",
    "        else:\n",
    "            ret+=alphabets[ch]\n",
    "    return ret\n",
    "\n",
    "name = '39816931'\n",
    "print(name, '\\n',label_to_num(name))"
   ]
  },
  {
   "cell_type": "markdown",
   "id": "128ff500",
   "metadata": {
    "papermill": {
     "duration": 0.015718,
     "end_time": "2021-07-25T10:38:06.418940",
     "exception": false,
     "start_time": "2021-07-25T10:38:06.403222",
     "status": "completed"
    },
    "tags": []
   },
   "source": [
    "* train_y contains the true labels converted to numbers and padded with -1. The length of each label is equal to max_str_len.\n",
    "* train_label_len contains the length of each true label (without padding)\n",
    "* train_input_len contains the length of each predicted label. The length of all the predicted labels is constant i.e number of timestamps - 2.\n",
    "* train_output is a dummy output for ctc loss."
   ]
  },
  {
   "cell_type": "code",
   "execution_count": 7,
   "id": "06bfc74b",
   "metadata": {
    "execution": {
     "iopub.execute_input": "2021-07-25T10:38:06.469281Z",
     "iopub.status.busy": "2021-07-25T10:38:06.463269Z",
     "iopub.status.idle": "2021-07-25T10:38:06.790193Z",
     "shell.execute_reply": "2021-07-25T10:38:06.792202Z",
     "shell.execute_reply.started": "2021-07-25T10:01:37.320566Z"
    },
    "papermill": {
     "duration": 0.356705,
     "end_time": "2021-07-25T10:38:06.792492",
     "exception": false,
     "start_time": "2021-07-25T10:38:06.435787",
     "status": "completed"
    },
    "tags": []
   },
   "outputs": [
    {
     "name": "stdout",
     "output_type": "stream",
     "text": [
      "\n",
      " True label_train  :  0002176 \n",
      "train_y :  [ 0.  0.  0.  2.  1.  7.  6. -1. -1. -1.] \n",
      "train_label_len :  [7.] \n",
      "train_input_len :  [30.]\n",
      "\n",
      " True label_valid :  7934518 \n",
      "train_y :  [ 7.  9.  3.  4.  5.  1.  8. -1. -1. -1.] \n",
      "train_label_len :  [7.] \n",
      "train_input_len :  [30.]\n"
     ]
    }
   ],
   "source": [
    "train_y = np.ones([train_size, max_str_len]) * -1\n",
    "train_label_len = np.zeros([train_size, 1])\n",
    "train_input_len = np.ones([train_size, 1]) * (num_of_timestamps-2)\n",
    "train_output = np.zeros([train_size])\n",
    "\n",
    "for i in range(train_size):\n",
    "    train_label_len[i] = len(label_train[i])\n",
    "    train_y[i, 0:len(label_train[i])]= label_to_num(label_train[i])  \n",
    "    \n",
    "\n",
    "valid_y = np.ones([valid_size, max_str_len]) * -1\n",
    "valid_label_len = np.zeros([valid_size, 1])\n",
    "valid_input_len = np.ones([valid_size, 1]) * (num_of_timestamps-2)\n",
    "valid_output = np.zeros([valid_size])\n",
    "\n",
    "for i in range(valid_size):\n",
    "    valid_label_len[i] = len(label_valid[i])\n",
    "    valid_y[i, 0:len(label_valid[i])]= label_to_num(label_valid[i])   \n",
    "\n",
    "print('\\n True label_train  : ',label_train[10] , '\\ntrain_y : ',train_y[10],\n",
    "      '\\ntrain_label_len : ',train_label_len[10], '\\ntrain_input_len : ', train_input_len[10])\n",
    "\n",
    "print('\\n True label_valid : ',label_valid[10] , '\\ntrain_y : ',valid_y[10],\n",
    "      '\\ntrain_label_len : ',valid_label_len[10], '\\ntrain_input_len : ', valid_input_len[10])\n"
   ]
  },
  {
   "cell_type": "markdown",
   "id": "7694c828",
   "metadata": {
    "papermill": {
     "duration": 0.030599,
     "end_time": "2021-07-25T10:38:06.852950",
     "exception": false,
     "start_time": "2021-07-25T10:38:06.822351",
     "status": "completed"
    },
    "tags": []
   },
   "source": [
    "# Build the model\n",
    "My funtional model is quite different from the original above because it's here:\n",
    "https://keras.io/examples/vision/captcha_ocr/\n",
    "But the final model is the same\n",
    "yeah I had some trouble with the CTC inputs and outputs of catpcha"
   ]
  },
  {
   "cell_type": "code",
   "execution_count": 8,
   "id": "cf138df0",
   "metadata": {
    "execution": {
     "iopub.execute_input": "2021-07-25T10:38:06.937994Z",
     "iopub.status.busy": "2021-07-25T10:38:06.937054Z",
     "iopub.status.idle": "2021-07-25T10:38:09.702740Z",
     "shell.execute_reply": "2021-07-25T10:38:09.703334Z",
     "shell.execute_reply.started": "2021-07-25T10:01:37.656928Z"
    },
    "papermill": {
     "duration": 2.815852,
     "end_time": "2021-07-25T10:38:09.703543",
     "exception": false,
     "start_time": "2021-07-25T10:38:06.887691",
     "status": "completed"
    },
    "tags": []
   },
   "outputs": [
    {
     "name": "stdout",
     "output_type": "stream",
     "text": [
      "Model: \"functional_1\"\n",
      "_________________________________________________________________\n",
      "Layer (type)                 Output Shape              Param #   \n",
      "=================================================================\n",
      "image (InputLayer)           [(None, 128, 32, 1)]      0         \n",
      "_________________________________________________________________\n",
      "Conv1 (Conv2D)               (None, 128, 32, 32)       320       \n",
      "_________________________________________________________________\n",
      "pool1 (MaxPooling2D)         (None, 64, 16, 32)        0         \n",
      "_________________________________________________________________\n",
      "Conv2 (Conv2D)               (None, 64, 16, 64)        18496     \n",
      "_________________________________________________________________\n",
      "pool2 (MaxPooling2D)         (None, 32, 8, 64)         0         \n",
      "_________________________________________________________________\n",
      "reshape (Reshape)            (None, 32, 512)           0         \n",
      "_________________________________________________________________\n",
      "dense1 (Dense)               (None, 32, 64)            32832     \n",
      "_________________________________________________________________\n",
      "dropout (Dropout)            (None, 32, 64)            0         \n",
      "_________________________________________________________________\n",
      "bidirectional (Bidirectional (None, 32, 256)           197632    \n",
      "_________________________________________________________________\n",
      "bidirectional_1 (Bidirection (None, 32, 128)           164352    \n",
      "_________________________________________________________________\n",
      "dense2 (Dense)               (None, 32, 11)            1419      \n",
      "=================================================================\n",
      "Total params: 415,051\n",
      "Trainable params: 415,051\n",
      "Non-trainable params: 0\n",
      "_________________________________________________________________\n",
      "Model: \"ocr_model_v1\"\n",
      "__________________________________________________________________________________________________\n",
      "Layer (type)                    Output Shape         Param #     Connected to                     \n",
      "==================================================================================================\n",
      "image (InputLayer)              [(None, 128, 32, 1)] 0                                            \n",
      "__________________________________________________________________________________________________\n",
      "Conv1 (Conv2D)                  (None, 128, 32, 32)  320         image[0][0]                      \n",
      "__________________________________________________________________________________________________\n",
      "pool1 (MaxPooling2D)            (None, 64, 16, 32)   0           Conv1[0][0]                      \n",
      "__________________________________________________________________________________________________\n",
      "Conv2 (Conv2D)                  (None, 64, 16, 64)   18496       pool1[0][0]                      \n",
      "__________________________________________________________________________________________________\n",
      "pool2 (MaxPooling2D)            (None, 32, 8, 64)    0           Conv2[0][0]                      \n",
      "__________________________________________________________________________________________________\n",
      "reshape (Reshape)               (None, 32, 512)      0           pool2[0][0]                      \n",
      "__________________________________________________________________________________________________\n",
      "dense1 (Dense)                  (None, 32, 64)       32832       reshape[0][0]                    \n",
      "__________________________________________________________________________________________________\n",
      "dropout (Dropout)               (None, 32, 64)       0           dense1[0][0]                     \n",
      "__________________________________________________________________________________________________\n",
      "bidirectional (Bidirectional)   (None, 32, 256)      197632      dropout[0][0]                    \n",
      "__________________________________________________________________________________________________\n",
      "bidirectional_1 (Bidirectional) (None, 32, 128)      164352      bidirectional[0][0]              \n",
      "__________________________________________________________________________________________________\n",
      "dense2 (Dense)                  (None, 32, 11)       1419        bidirectional_1[0][0]            \n",
      "__________________________________________________________________________________________________\n",
      "gtruth_labels (InputLayer)      [(None, 10)]         0                                            \n",
      "__________________________________________________________________________________________________\n",
      "input_length (InputLayer)       [(None, 1)]          0                                            \n",
      "__________________________________________________________________________________________________\n",
      "label_length (InputLayer)       [(None, 1)]          0                                            \n",
      "__________________________________________________________________________________________________\n",
      "ctc (Lambda)                    (None, 1)            0           dense2[0][0]                     \n",
      "                                                                 gtruth_labels[0][0]              \n",
      "                                                                 input_length[0][0]               \n",
      "                                                                 label_length[0][0]               \n",
      "==================================================================================================\n",
      "Total params: 415,051\n",
      "Trainable params: 415,051\n",
      "Non-trainable params: 0\n",
      "__________________________________________________________________________________________________\n"
     ]
    }
   ],
   "source": [
    "#y_true: tensor (samples, max_string_length) containing the truth labels.\n",
    "#y_pred: tensor (samples, time_steps, num_categories) containing the prediction, or output of the softmax.\n",
    "#input_length: tensor (samples, 1) containing the sequence length of slices coming out from RNN for each batch item in y_pred.\n",
    "#label_length: tensor (samples, 1) containing the sequence length of label for each batch item in y_true.\n",
    "\n",
    "\n",
    "def build_model(img_width = 128,img_height = 32, max_str_len = 10):\n",
    "    # Inputs to the model\n",
    "\n",
    "    input_img = layers.Input(\n",
    "        shape=(img_width, img_height, 1), name=\"image\", dtype=\"float32\"\n",
    "    )\n",
    "    \n",
    "\n",
    "    # First conv block\n",
    "    x = layers.Conv2D(\n",
    "        32,\n",
    "        (3, 3),\n",
    "        activation=\"relu\",\n",
    "        kernel_initializer=\"he_normal\",\n",
    "        padding=\"same\",\n",
    "        name=\"Conv1\",\n",
    "    )(input_img)\n",
    "    x = layers.MaxPooling2D((2, 2), name=\"pool1\")(x)\n",
    "\n",
    "    # Second conv block\n",
    "    x = layers.Conv2D(\n",
    "        64,\n",
    "        (3, 3),\n",
    "        activation=\"relu\",\n",
    "        kernel_initializer=\"he_normal\",\n",
    "        padding=\"same\",\n",
    "        name=\"Conv2\",\n",
    "    )(x)\n",
    "    x = layers.MaxPooling2D((2, 2), name=\"pool2\")(x)\n",
    "\n",
    "    # We have used two max pool with pool size and strides 2.\n",
    "    # Hence, downsampled feature maps are 4x smaller. The number of\n",
    "    # filters in the last layer is 64. Reshape accordingly before\n",
    "    # passing the output to the RNN part of the model\n",
    "    new_shape = ((img_width // 4), (img_height // 4) * 64)\n",
    "    x = layers.Reshape(target_shape=new_shape, name=\"reshape\")(x)\n",
    "    x = layers.Dense(64, activation=\"relu\", name=\"dense1\")(x)\n",
    "    x = layers.Dropout(0.2)(x)\n",
    "\n",
    "    # RNNs\n",
    "    x = layers.Bidirectional(layers.LSTM(128, return_sequences=True, dropout=0.25))(x)\n",
    "    x = layers.Bidirectional(layers.LSTM(64, return_sequences=True, dropout=0.25))(x)\n",
    "\n",
    "    # Output layer\n",
    "    y_pred = layers.Dense(10 + 1, activation=\"softmax\", name=\"dense2\")(x) # y pred\n",
    "    model = keras.models.Model(inputs=input_img, outputs=y_pred, name=\"functional_1\")\n",
    "\n",
    "    def ctc_lambda_func(args):\n",
    "        y_pred, labels, input_length, label_length = args\n",
    "        # the 2 is critical here since the first couple outputs of the RNN\n",
    "        # tend to be garbage\n",
    "        y_pred = y_pred[:, 2:, :]\n",
    "        return tf.keras.backend.ctc_batch_cost(labels, y_pred, input_length, label_length)\n",
    "\n",
    "    labels = layers.Input(name='gtruth_labels', shape=[max_str_len], dtype='float32')\n",
    "    input_length = layers.Input(name='input_length', shape=[1], dtype='int64')\n",
    "    label_length = layers.Input(name='label_length', shape=[1], dtype='int64')\n",
    "\n",
    "    ctc_loss = keras.layers.Lambda(ctc_lambda_func, output_shape=(1,), name='ctc')([y_pred, labels, input_length, label_length])\n",
    "    model_final = keras.models.Model(inputs=[input_img, labels, input_length, label_length], outputs=ctc_loss, name = \"ocr_model_v1\")\n",
    "    \n",
    "    return model, model_final\n",
    "\n",
    "model, model_final = build_model()\n",
    "model.summary()\n",
    "model_final.summary()"
   ]
  },
  {
   "cell_type": "markdown",
   "id": "80cdcd66",
   "metadata": {
    "papermill": {
     "duration": 0.016834,
     "end_time": "2021-07-25T10:38:09.739224",
     "exception": false,
     "start_time": "2021-07-25T10:38:09.722390",
     "status": "completed"
    },
    "tags": []
   },
   "source": [
    "You may ask why we need 2 models. The final with CTC is for training.\n",
    "The functional is for saving and predicting.\n",
    "The detail is in the comment here\n",
    "https://www.kaggle.com/samfc10/handwriting-recognition-using-crnn-in-keras/comments"
   ]
  },
  {
   "cell_type": "markdown",
   "id": "cdf710f4",
   "metadata": {
    "papermill": {
     "duration": 0.019471,
     "end_time": "2021-07-25T10:38:09.777033",
     "exception": false,
     "start_time": "2021-07-25T10:38:09.757562",
     "status": "completed"
    },
    "tags": []
   },
   "source": [
    "# Training\n"
   ]
  },
  {
   "cell_type": "code",
   "execution_count": 9,
   "id": "cc358d0c",
   "metadata": {
    "_kg_hide-input": false,
    "execution": {
     "iopub.execute_input": "2021-07-25T10:38:09.825304Z",
     "iopub.status.busy": "2021-07-25T10:38:09.824788Z",
     "iopub.status.idle": "2021-07-25T11:03:55.315596Z",
     "shell.execute_reply": "2021-07-25T11:03:55.315079Z",
     "shell.execute_reply.started": "2021-07-25T10:01:40.289033Z"
    },
    "papermill": {
     "duration": 1545.519989,
     "end_time": "2021-07-25T11:03:55.315748",
     "exception": false,
     "start_time": "2021-07-25T10:38:09.795759",
     "status": "completed"
    },
    "tags": []
   },
   "outputs": [
    {
     "name": "stdout",
     "output_type": "stream",
     "text": [
      "Epoch 1/60\n",
      "250/250 [==============================] - 37s 102ms/step - loss: 30.9375 - val_loss: 18.4869\n",
      "Epoch 2/60\n",
      "250/250 [==============================] - 24s 97ms/step - loss: 17.7621 - val_loss: 19.0707\n",
      "Epoch 3/60\n",
      "250/250 [==============================] - 26s 102ms/step - loss: 17.6984 - val_loss: 19.3892\n",
      "Epoch 4/60\n",
      "250/250 [==============================] - 24s 97ms/step - loss: 17.6705 - val_loss: 19.6467\n",
      "Epoch 5/60\n",
      "250/250 [==============================] - 25s 99ms/step - loss: 17.6401 - val_loss: 19.3813\n",
      "Epoch 6/60\n",
      "250/250 [==============================] - 25s 102ms/step - loss: 17.6123 - val_loss: 19.3968\n",
      "Epoch 7/60\n",
      "250/250 [==============================] - 25s 102ms/step - loss: 17.5631 - val_loss: 19.7727\n",
      "Epoch 8/60\n",
      "250/250 [==============================] - 24s 96ms/step - loss: 17.2619 - val_loss: 18.4329\n",
      "Epoch 9/60\n",
      "250/250 [==============================] - 25s 102ms/step - loss: 16.1593 - val_loss: 17.6075\n",
      "Epoch 10/60\n",
      "250/250 [==============================] - 25s 100ms/step - loss: 14.8039 - val_loss: 15.9288\n",
      "Epoch 11/60\n",
      "250/250 [==============================] - 25s 99ms/step - loss: 12.6421 - val_loss: 14.5955\n",
      "Epoch 12/60\n",
      "250/250 [==============================] - 25s 101ms/step - loss: 10.8175 - val_loss: 13.1064\n",
      "Epoch 13/60\n",
      "250/250 [==============================] - 24s 98ms/step - loss: 9.4307 - val_loss: 12.4130\n",
      "Epoch 14/60\n",
      "250/250 [==============================] - 25s 100ms/step - loss: 7.9083 - val_loss: 10.6590\n",
      "Epoch 15/60\n",
      "250/250 [==============================] - 25s 102ms/step - loss: 6.2970 - val_loss: 10.1686\n",
      "Epoch 16/60\n",
      "250/250 [==============================] - 24s 96ms/step - loss: 5.0865 - val_loss: 9.1026\n",
      "Epoch 17/60\n",
      "250/250 [==============================] - 26s 103ms/step - loss: 4.1293 - val_loss: 8.7001\n",
      "Epoch 18/60\n",
      "250/250 [==============================] - 27s 106ms/step - loss: 3.4751 - val_loss: 8.1995\n",
      "Epoch 19/60\n",
      "250/250 [==============================] - 25s 100ms/step - loss: 2.9447 - val_loss: 7.9783\n",
      "Epoch 20/60\n",
      "250/250 [==============================] - 25s 99ms/step - loss: 2.5921 - val_loss: 7.7728\n",
      "Epoch 21/60\n",
      "250/250 [==============================] - 26s 102ms/step - loss: 2.3077 - val_loss: 7.4804\n",
      "Epoch 22/60\n",
      "250/250 [==============================] - 25s 101ms/step - loss: 2.0880 - val_loss: 7.4902\n",
      "Epoch 23/60\n",
      "250/250 [==============================] - 25s 99ms/step - loss: 1.8963 - val_loss: 6.9965\n",
      "Epoch 24/60\n",
      "250/250 [==============================] - 26s 104ms/step - loss: 1.7628 - val_loss: 7.0511\n",
      "Epoch 25/60\n",
      "250/250 [==============================] - 24s 96ms/step - loss: 1.6289 - val_loss: 6.7953\n",
      "Epoch 26/60\n",
      "250/250 [==============================] - 26s 103ms/step - loss: 1.5288 - val_loss: 6.6325\n",
      "Epoch 27/60\n",
      "250/250 [==============================] - 25s 102ms/step - loss: 1.4378 - val_loss: 6.6192\n",
      "Epoch 28/60\n",
      "250/250 [==============================] - 25s 99ms/step - loss: 1.3463 - val_loss: 6.2403\n",
      "Epoch 29/60\n",
      "250/250 [==============================] - 26s 102ms/step - loss: 1.2816 - val_loss: 6.3490\n",
      "Epoch 30/60\n",
      "250/250 [==============================] - 26s 105ms/step - loss: 1.2132 - val_loss: 6.0590\n",
      "Epoch 31/60\n",
      "250/250 [==============================] - 26s 103ms/step - loss: 1.1403 - val_loss: 6.0998\n",
      "Epoch 32/60\n",
      "250/250 [==============================] - 26s 103ms/step - loss: 1.1117 - val_loss: 5.5600\n",
      "Epoch 33/60\n",
      "250/250 [==============================] - 25s 99ms/step - loss: 1.0660 - val_loss: 5.6657\n",
      "Epoch 34/60\n",
      "250/250 [==============================] - 26s 103ms/step - loss: 1.0267 - val_loss: 5.9957\n",
      "Epoch 35/60\n",
      "250/250 [==============================] - 26s 105ms/step - loss: 0.9849 - val_loss: 5.4348\n",
      "Epoch 36/60\n",
      "250/250 [==============================] - 26s 104ms/step - loss: 0.9419 - val_loss: 5.6969\n",
      "Epoch 37/60\n",
      "250/250 [==============================] - 23s 94ms/step - loss: 0.9041 - val_loss: 5.3350\n",
      "Epoch 38/60\n",
      "250/250 [==============================] - 27s 109ms/step - loss: 0.8727 - val_loss: 5.3458\n",
      "Epoch 39/60\n",
      "250/250 [==============================] - 25s 102ms/step - loss: 0.8493 - val_loss: 5.1775\n",
      "Epoch 40/60\n",
      "250/250 [==============================] - 25s 99ms/step - loss: 0.8281 - val_loss: 5.1268\n",
      "Epoch 41/60\n",
      "250/250 [==============================] - 26s 104ms/step - loss: 0.8053 - val_loss: 5.1743\n",
      "Epoch 42/60\n",
      "250/250 [==============================] - 26s 104ms/step - loss: 0.7716 - val_loss: 5.2839\n",
      "Epoch 43/60\n",
      "250/250 [==============================] - 28s 112ms/step - loss: 0.7480 - val_loss: 5.2518\n",
      "Epoch 44/60\n",
      "250/250 [==============================] - 25s 101ms/step - loss: 0.7318 - val_loss: 5.3440\n",
      "Epoch 45/60\n",
      "250/250 [==============================] - 27s 108ms/step - loss: 0.7117 - val_loss: 5.1460\n",
      "Epoch 46/60\n",
      "250/250 [==============================] - 26s 106ms/step - loss: 0.6827 - val_loss: 4.8835\n",
      "Epoch 47/60\n",
      "250/250 [==============================] - 28s 114ms/step - loss: 0.6860 - val_loss: 4.8770\n",
      "Epoch 48/60\n",
      "250/250 [==============================] - 24s 96ms/step - loss: 0.6594 - val_loss: 5.1468\n",
      "Epoch 49/60\n",
      "250/250 [==============================] - 28s 112ms/step - loss: 0.6498 - val_loss: 5.0058\n",
      "Epoch 50/60\n",
      "250/250 [==============================] - 27s 110ms/step - loss: 0.6241 - val_loss: 5.2648\n",
      "Epoch 51/60\n",
      "250/250 [==============================] - 25s 99ms/step - loss: 0.6199 - val_loss: 4.7636\n",
      "Epoch 52/60\n",
      "250/250 [==============================] - 28s 112ms/step - loss: 0.5977 - val_loss: 4.7744\n",
      "Epoch 53/60\n",
      "250/250 [==============================] - 24s 95ms/step - loss: 0.5903 - val_loss: 4.7994\n",
      "Epoch 54/60\n",
      "250/250 [==============================] - 27s 109ms/step - loss: 0.5645 - val_loss: 4.8483\n",
      "Epoch 55/60\n",
      "250/250 [==============================] - 25s 102ms/step - loss: 0.5755 - val_loss: 4.3405\n",
      "Epoch 56/60\n",
      "250/250 [==============================] - 25s 100ms/step - loss: 0.5652 - val_loss: 4.5328\n",
      "Epoch 57/60\n",
      "250/250 [==============================] - 26s 104ms/step - loss: 0.5532 - val_loss: 4.5274\n",
      "Epoch 58/60\n",
      "250/250 [==============================] - 26s 103ms/step - loss: 0.5237 - val_loss: 4.5951\n",
      "Epoch 59/60\n",
      "250/250 [==============================] - 24s 98ms/step - loss: 0.5244 - val_loss: 4.1602\n",
      "Epoch 60/60\n",
      "250/250 [==============================] - 27s 108ms/step - loss: 0.5130 - val_loss: 4.4807\n"
     ]
    },
    {
     "data": {
      "text/plain": [
       "<tensorflow.python.keras.callbacks.History at 0x7f993a1d5090>"
      ]
     },
     "execution_count": 9,
     "metadata": {},
     "output_type": "execute_result"
    }
   ],
   "source": [
    "opt = keras.optimizers.Adam()\n",
    "\n",
    "early_stopping_patience = 5\n",
    "# Add early stopping\n",
    "early_stopping = keras.callbacks.EarlyStopping(\n",
    "    monitor=\"val_loss\", patience=early_stopping_patience, restore_best_weights=True\n",
    ")\n",
    "\n",
    "model_final.compile(loss={'ctc': lambda y_true, y_pred: y_pred}, optimizer=keras.optimizers.Adam(lr = 0.0001))\n",
    "\n",
    "model_final.fit(x=[train_x, train_y, train_input_len, train_label_len], y=train_output, \n",
    "                validation_data=([valid_x, valid_y, valid_input_len, valid_label_len], valid_output),\n",
    "                epochs=60, \n",
    "                batch_size=128)\n"
   ]
  },
  {
   "cell_type": "code",
   "execution_count": 10,
   "id": "f6e06abe",
   "metadata": {
    "execution": {
     "iopub.execute_input": "2021-07-25T11:04:03.956658Z",
     "iopub.status.busy": "2021-07-25T11:04:03.955792Z",
     "iopub.status.idle": "2021-07-25T11:04:26.766082Z",
     "shell.execute_reply": "2021-07-25T11:04:26.765619Z",
     "shell.execute_reply.started": "2021-07-25T10:29:06.383535Z"
    },
    "papermill": {
     "duration": 26.962638,
     "end_time": "2021-07-25T11:04:26.766211",
     "exception": false,
     "start_time": "2021-07-25T11:03:59.803573",
     "status": "completed"
    },
    "tags": []
   },
   "outputs": [],
   "source": [
    "model.save('/kaggle/working/mymodel')"
   ]
  },
  {
   "cell_type": "markdown",
   "id": "32d067b9",
   "metadata": {
    "papermill": {
     "duration": 4.118993,
     "end_time": "2021-07-25T11:04:34.807999",
     "exception": false,
     "start_time": "2021-07-25T11:04:30.689006",
     "status": "completed"
    },
    "tags": []
   },
   "source": [
    "<a href=\"mymodel\"> Download File </a>"
   ]
  },
  {
   "cell_type": "markdown",
   "id": "0ddae607",
   "metadata": {
    "papermill": {
     "duration": 4.10357,
     "end_time": "2021-07-25T11:04:42.750061",
     "exception": false,
     "start_time": "2021-07-25T11:04:38.646491",
     "status": "completed"
    },
    "tags": []
   },
   "source": [
    "# Some prediction on valid set"
   ]
  },
  {
   "cell_type": "code",
   "execution_count": 11,
   "id": "61284a39",
   "metadata": {
    "execution": {
     "iopub.execute_input": "2021-07-25T11:04:50.593528Z",
     "iopub.status.busy": "2021-07-25T11:04:50.592467Z",
     "iopub.status.idle": "2021-07-25T11:04:53.722297Z",
     "shell.execute_reply": "2021-07-25T11:04:53.721882Z",
     "shell.execute_reply.started": "2021-07-25T10:31:46.927508Z"
    },
    "papermill": {
     "duration": 7.105475,
     "end_time": "2021-07-25T11:04:53.722443",
     "exception": false,
     "start_time": "2021-07-25T11:04:46.616968",
     "status": "completed"
    },
    "tags": []
   },
   "outputs": [
    {
     "name": "stdout",
     "output_type": "stream",
     "text": [
      "\n",
      " decoded [[ 7  7  3 ... -1 -1 -1]\n",
      " [ 7  9  3 ... -1 -1 -1]\n",
      " [ 7  9  3 ... -1 -1 -1]\n",
      " ...\n",
      " [ 7  4  9 ... -1 -1 -1]\n",
      " [ 7  4  9 ... -1 -1 -1]\n",
      " [ 7  9  9 ... -1 -1 -1]]\n",
      "\n",
      " predict 7731461\n",
      "Correct characters predicted : 42.14%\n",
      "Correct words predicted      : 2.66%\n"
     ]
    }
   ],
   "source": [
    "preds = model.predict(valid_x)\n",
    "#print('\\n preds',preds)\n",
    "decoded = tf.keras.backend.get_value(tf.keras.backend.ctc_decode(preds, input_length=np.ones(preds.shape[0])*preds.shape[1], \n",
    "                                   greedy=True)[0][0])\n",
    "print ('\\n decoded',decoded)\n",
    "prediction = []\n",
    "for i in range(valid_size):\n",
    "    prediction.append(num_to_label(decoded[i]))\n",
    "    \n",
    "print ('\\n predict',num_to_label(decoded[0]))\n",
    "y_true = label_valid\n",
    "correct_char = 0\n",
    "total_char = 0\n",
    "correct = 0\n",
    "\n",
    "for i in range(valid_size):\n",
    "    pr = prediction[i]\n",
    "    tr = y_true[i]\n",
    "    total_char += len(tr)\n",
    "    \n",
    "    for j in range(min(len(tr), len(pr))):\n",
    "        if tr[j] == pr[j]:\n",
    "            correct_char += 1\n",
    "            \n",
    "    if pr == tr :\n",
    "        correct += 1 \n",
    "    \n",
    "print('Correct characters predicted : %.2f%%' %(correct_char*100/total_char))\n",
    "print('Correct words predicted      : %.2f%%' %(correct*100/valid_size))\n",
    "\n"
   ]
  },
  {
   "cell_type": "markdown",
   "id": "7d1b4e47",
   "metadata": {
    "papermill": {
     "duration": 4.199128,
     "end_time": "2021-07-25T11:05:01.916416",
     "exception": false,
     "start_time": "2021-07-25T11:04:57.717288",
     "status": "completed"
    },
    "tags": []
   },
   "source": []
  },
  {
   "cell_type": "markdown",
   "id": "b298b7a1",
   "metadata": {
    "papermill": {
     "duration": 4.216039,
     "end_time": "2021-07-25T11:05:10.631322",
     "exception": false,
     "start_time": "2021-07-25T11:05:06.415283",
     "status": "completed"
    },
    "tags": []
   },
   "source": [
    "# Predict on some test image\n",
    "I wil load some image and test"
   ]
  },
  {
   "cell_type": "code",
   "execution_count": 12,
   "id": "9159be25",
   "metadata": {
    "execution": {
     "iopub.execute_input": "2021-07-25T11:05:19.292912Z",
     "iopub.status.busy": "2021-07-25T11:05:19.291918Z",
     "iopub.status.idle": "2021-07-25T11:05:21.927072Z",
     "shell.execute_reply": "2021-07-25T11:05:21.926579Z",
     "shell.execute_reply.started": "2021-07-25T10:31:51.407349Z"
    },
    "papermill": {
     "duration": 7.126259,
     "end_time": "2021-07-25T11:05:21.927203",
     "exception": false,
     "start_time": "2021-07-25T11:05:14.800944",
     "status": "completed"
    },
    "tags": []
   },
   "outputs": [
    {
     "name": "stdout",
     "output_type": "stream",
     "text": [
      "\n",
      " filename 9232361.png\n",
      "\n",
      " filename 7513347.png\n",
      "\n",
      " filename 2631986.png\n",
      "\n",
      " filename 6612911.png\n",
      "\n",
      " filename 4949395.png\n",
      "\n",
      " filename 4154733.png\n"
     ]
    },
    {
     "data": {
      "image/png": "[encoded data removed]",
      "text/plain": [
       "<Figure size 1080x720 with 6 Axes>"
      ]
     },
     "metadata": {
      "needs_background": "light"
     },
     "output_type": "display_data"
    }
   ],
   "source": [
    "import random\n",
    "plt.figure(figsize=(15, 10))\n",
    "for i in range(6):\n",
    "    ax = plt.subplot(2, 3, i+1)\n",
    "    fold_dir = '../input/dataset/multi_digit_images_10k/multi_digit_images/'\n",
    "    filename = random.sample((os.listdir(fold_dir)),1)\n",
    "    filename = ( \"\".join( str(e) for e in filename ) ) # bỏ ngoặc\n",
    "    print ('\\n filename',filename)\n",
    "    img_dir = fold_dir+str(filename) \n",
    "    image = cv2.imread(img_dir, cv2.IMREAD_GRAYSCALE)\n",
    "    plt.imshow(image, cmap='gray')\n",
    "    image = preprocess(image,(128,32))\n",
    "    image = image/255.\n",
    "    pred = model.predict(image.reshape(1, 128, 32, 1))\n",
    "    decoded = tf.keras.backend.get_value(tf.keras.backend.ctc_decode(pred, input_length=np.ones(pred.shape[0])*pred.shape[1], \n",
    "                                       greedy=True)[0][0])\n",
    "\n",
    "    plt.title(num_to_label(decoded[0]), fontsize=12)\n",
    "    plt.axis('off')\n",
    "    \n"
   ]
  }
 ],
 "metadata": {
  "kernelspec": {
   "display_name": "Python 3",
   "language": "python",
   "name": "python3"
  },
  "language_info": {
   "codemirror_mode": {
    "name": "ipython",
    "version": 3
   },
   "file_extension": ".py",
   "mimetype": "text/x-python",
   "name": "python",
   "nbconvert_exporter": "python",
   "pygments_lexer": "ipython3",
   "version": "3.7.10"
  },
  "papermill": {
   "default_parameters": {},
   "duration": 1960.884495,
   "end_time": "2021-07-25T11:05:30.125809",
   "environment_variables": {},
   "exception": null,
   "input_path": "__notebook__.ipynb",
   "output_path": "__notebook__.ipynb",
   "parameters": {},
   "start_time": "2021-07-25T10:32:49.241314",
   "version": "2.3.3"
  }
 },
 "nbformat": 4,
 "nbformat_minor": 5
}
